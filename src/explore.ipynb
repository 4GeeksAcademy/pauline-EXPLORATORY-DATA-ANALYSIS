{
    "cells": [
        {
            "cell_type": "markdown",
            "metadata": {},
            "source": [
                "# Explore here"
            ]
        },
        {
            "cell_type": "code",
            "execution_count": 148,
            "metadata": {},
            "outputs": [],
            "source": [
                "import pandas as pd\n",
                "import matplotlib.pyplot as plt\n",
                "import numpy as np\n",
                "import missingno as msno\n",
                "from sklearn.impute import KNNImputer\n",
                "import statsmodels.api as sm\n",
                "from sklearn.model_selection import train_test_split"
            ]
        },
        {
            "cell_type": "code",
            "execution_count": 149,
            "metadata": {},
            "outputs": [
                {
                    "data": {
                        "text/html": [
                            "<div>\n",
                            "<style scoped>\n",
                            "    .dataframe tbody tr th:only-of-type {\n",
                            "        vertical-align: middle;\n",
                            "    }\n",
                            "\n",
                            "    .dataframe tbody tr th {\n",
                            "        vertical-align: top;\n",
                            "    }\n",
                            "\n",
                            "    .dataframe thead th {\n",
                            "        text-align: right;\n",
                            "    }\n",
                            "</style>\n",
                            "<table border=\"1\" class=\"dataframe\">\n",
                            "  <thead>\n",
                            "    <tr style=\"text-align: right;\">\n",
                            "      <th></th>\n",
                            "      <th>id</th>\n",
                            "      <th>name</th>\n",
                            "      <th>host_id</th>\n",
                            "      <th>host_name</th>\n",
                            "      <th>neighbourhood_group</th>\n",
                            "      <th>neighbourhood</th>\n",
                            "      <th>latitude</th>\n",
                            "      <th>longitude</th>\n",
                            "      <th>room_type</th>\n",
                            "      <th>price</th>\n",
                            "      <th>minimum_nights</th>\n",
                            "      <th>number_of_reviews</th>\n",
                            "      <th>last_review</th>\n",
                            "      <th>reviews_per_month</th>\n",
                            "      <th>calculated_host_listings_count</th>\n",
                            "      <th>availability_365</th>\n",
                            "    </tr>\n",
                            "  </thead>\n",
                            "  <tbody>\n",
                            "    <tr>\n",
                            "      <th>0</th>\n",
                            "      <td>2539</td>\n",
                            "      <td>Clean &amp; quiet apt home by the park</td>\n",
                            "      <td>2787</td>\n",
                            "      <td>John</td>\n",
                            "      <td>Brooklyn</td>\n",
                            "      <td>Kensington</td>\n",
                            "      <td>40.64749</td>\n",
                            "      <td>-73.97237</td>\n",
                            "      <td>Private room</td>\n",
                            "      <td>149</td>\n",
                            "      <td>1</td>\n",
                            "      <td>9</td>\n",
                            "      <td>2018-10-19</td>\n",
                            "      <td>0.21</td>\n",
                            "      <td>6</td>\n",
                            "      <td>365</td>\n",
                            "    </tr>\n",
                            "    <tr>\n",
                            "      <th>1</th>\n",
                            "      <td>2595</td>\n",
                            "      <td>Skylit Midtown Castle</td>\n",
                            "      <td>2845</td>\n",
                            "      <td>Jennifer</td>\n",
                            "      <td>Manhattan</td>\n",
                            "      <td>Midtown</td>\n",
                            "      <td>40.75362</td>\n",
                            "      <td>-73.98377</td>\n",
                            "      <td>Entire home/apt</td>\n",
                            "      <td>225</td>\n",
                            "      <td>1</td>\n",
                            "      <td>45</td>\n",
                            "      <td>2019-05-21</td>\n",
                            "      <td>0.38</td>\n",
                            "      <td>2</td>\n",
                            "      <td>355</td>\n",
                            "    </tr>\n",
                            "    <tr>\n",
                            "      <th>2</th>\n",
                            "      <td>3647</td>\n",
                            "      <td>THE VILLAGE OF HARLEM....NEW YORK !</td>\n",
                            "      <td>4632</td>\n",
                            "      <td>Elisabeth</td>\n",
                            "      <td>Manhattan</td>\n",
                            "      <td>Harlem</td>\n",
                            "      <td>40.80902</td>\n",
                            "      <td>-73.94190</td>\n",
                            "      <td>Private room</td>\n",
                            "      <td>150</td>\n",
                            "      <td>3</td>\n",
                            "      <td>0</td>\n",
                            "      <td>NaN</td>\n",
                            "      <td>NaN</td>\n",
                            "      <td>1</td>\n",
                            "      <td>365</td>\n",
                            "    </tr>\n",
                            "    <tr>\n",
                            "      <th>3</th>\n",
                            "      <td>3831</td>\n",
                            "      <td>Cozy Entire Floor of Brownstone</td>\n",
                            "      <td>4869</td>\n",
                            "      <td>LisaRoxanne</td>\n",
                            "      <td>Brooklyn</td>\n",
                            "      <td>Clinton Hill</td>\n",
                            "      <td>40.68514</td>\n",
                            "      <td>-73.95976</td>\n",
                            "      <td>Entire home/apt</td>\n",
                            "      <td>89</td>\n",
                            "      <td>1</td>\n",
                            "      <td>270</td>\n",
                            "      <td>2019-07-05</td>\n",
                            "      <td>4.64</td>\n",
                            "      <td>1</td>\n",
                            "      <td>194</td>\n",
                            "    </tr>\n",
                            "    <tr>\n",
                            "      <th>4</th>\n",
                            "      <td>5022</td>\n",
                            "      <td>Entire Apt: Spacious Studio/Loft by central park</td>\n",
                            "      <td>7192</td>\n",
                            "      <td>Laura</td>\n",
                            "      <td>Manhattan</td>\n",
                            "      <td>East Harlem</td>\n",
                            "      <td>40.79851</td>\n",
                            "      <td>-73.94399</td>\n",
                            "      <td>Entire home/apt</td>\n",
                            "      <td>80</td>\n",
                            "      <td>10</td>\n",
                            "      <td>9</td>\n",
                            "      <td>2018-11-19</td>\n",
                            "      <td>0.10</td>\n",
                            "      <td>1</td>\n",
                            "      <td>0</td>\n",
                            "    </tr>\n",
                            "  </tbody>\n",
                            "</table>\n",
                            "</div>"
                        ],
                        "text/plain": [
                            "     id                                              name  host_id  \\\n",
                            "0  2539                Clean & quiet apt home by the park     2787   \n",
                            "1  2595                             Skylit Midtown Castle     2845   \n",
                            "2  3647               THE VILLAGE OF HARLEM....NEW YORK !     4632   \n",
                            "3  3831                   Cozy Entire Floor of Brownstone     4869   \n",
                            "4  5022  Entire Apt: Spacious Studio/Loft by central park     7192   \n",
                            "\n",
                            "     host_name neighbourhood_group neighbourhood  latitude  longitude  \\\n",
                            "0         John            Brooklyn    Kensington  40.64749  -73.97237   \n",
                            "1     Jennifer           Manhattan       Midtown  40.75362  -73.98377   \n",
                            "2    Elisabeth           Manhattan        Harlem  40.80902  -73.94190   \n",
                            "3  LisaRoxanne            Brooklyn  Clinton Hill  40.68514  -73.95976   \n",
                            "4        Laura           Manhattan   East Harlem  40.79851  -73.94399   \n",
                            "\n",
                            "         room_type  price  minimum_nights  number_of_reviews last_review  \\\n",
                            "0     Private room    149               1                  9  2018-10-19   \n",
                            "1  Entire home/apt    225               1                 45  2019-05-21   \n",
                            "2     Private room    150               3                  0         NaN   \n",
                            "3  Entire home/apt     89               1                270  2019-07-05   \n",
                            "4  Entire home/apt     80              10                  9  2018-11-19   \n",
                            "\n",
                            "   reviews_per_month  calculated_host_listings_count  availability_365  \n",
                            "0               0.21                               6               365  \n",
                            "1               0.38                               2               355  \n",
                            "2                NaN                               1               365  \n",
                            "3               4.64                               1               194  \n",
                            "4               0.10                               1                 0  "
                        ]
                    },
                    "execution_count": 149,
                    "metadata": {},
                    "output_type": "execute_result"
                }
            ],
            "source": [
                "df = pd.read_csv('/workspaces/pauline---machine-learning-python-template/data/raw/AB_NYC_2019.csv')\n",
                "pd.set_option('display.max_columns', None)\n",
                "df.head()\n",
                "\n"
            ]
        },
        {
            "cell_type": "code",
            "execution_count": 150,
            "metadata": {},
            "outputs": [
                {
                    "data": {
                        "text/plain": [
                            "(48895, 16)"
                        ]
                    },
                    "execution_count": 150,
                    "metadata": {},
                    "output_type": "execute_result"
                }
            ],
            "source": [
                "df.shape"
            ]
        },
        {
            "cell_type": "code",
            "execution_count": 151,
            "metadata": {},
            "outputs": [
                {
                    "name": "stdout",
                    "output_type": "stream",
                    "text": [
                        "<class 'pandas.core.frame.DataFrame'>\n",
                        "RangeIndex: 48895 entries, 0 to 48894\n",
                        "Data columns (total 16 columns):\n",
                        " #   Column                          Non-Null Count  Dtype  \n",
                        "---  ------                          --------------  -----  \n",
                        " 0   id                              48895 non-null  int64  \n",
                        " 1   name                            48879 non-null  object \n",
                        " 2   host_id                         48895 non-null  int64  \n",
                        " 3   host_name                       48874 non-null  object \n",
                        " 4   neighbourhood_group             48895 non-null  object \n",
                        " 5   neighbourhood                   48895 non-null  object \n",
                        " 6   latitude                        48895 non-null  float64\n",
                        " 7   longitude                       48895 non-null  float64\n",
                        " 8   room_type                       48895 non-null  object \n",
                        " 9   price                           48895 non-null  int64  \n",
                        " 10  minimum_nights                  48895 non-null  int64  \n",
                        " 11  number_of_reviews               48895 non-null  int64  \n",
                        " 12  last_review                     38843 non-null  object \n",
                        " 13  reviews_per_month               38843 non-null  float64\n",
                        " 14  calculated_host_listings_count  48895 non-null  int64  \n",
                        " 15  availability_365                48895 non-null  int64  \n",
                        "dtypes: float64(3), int64(7), object(6)\n",
                        "memory usage: 6.0+ MB\n"
                    ]
                }
            ],
            "source": [
                "df.info()"
            ]
        },
        {
            "cell_type": "code",
            "execution_count": 152,
            "metadata": {},
            "outputs": [
                {
                    "data": {
                        "text/plain": [
                            "id                                48895\n",
                            "name                              47905\n",
                            "host_id                           37457\n",
                            "host_name                         11452\n",
                            "neighbourhood_group                   5\n",
                            "neighbourhood                       221\n",
                            "latitude                          19048\n",
                            "longitude                         14718\n",
                            "room_type                             3\n",
                            "price                               674\n",
                            "minimum_nights                      109\n",
                            "number_of_reviews                   394\n",
                            "last_review                        1764\n",
                            "reviews_per_month                   937\n",
                            "calculated_host_listings_count       47\n",
                            "availability_365                    366\n",
                            "dtype: int64"
                        ]
                    },
                    "execution_count": 152,
                    "metadata": {},
                    "output_type": "execute_result"
                }
            ],
            "source": [
                "n_unicos = df.nunique()\n",
                "n_unicos"
            ]
        },
        {
            "cell_type": "code",
            "execution_count": 153,
            "metadata": {},
            "outputs": [],
            "source": [
                "#Eliminamos filas con nulos y 0 : \n",
                "df_cleaned = df[~(df == 0).any(axis=1)].dropna()"
            ]
        },
        {
            "cell_type": "code",
            "execution_count": 154,
            "metadata": {},
            "outputs": [
                {
                    "name": "stdout",
                    "output_type": "stream",
                    "text": [
                        "Index(['id', 'name', 'host_id', 'host_name', 'neighbourhood_group',\n",
                        "       'neighbourhood', 'latitude', 'longitude', 'room_type', 'price',\n",
                        "       'minimum_nights', 'number_of_reviews', 'last_review',\n",
                        "       'reviews_per_month', 'calculated_host_listings_count',\n",
                        "       'availability_365'],\n",
                        "      dtype='object')\n"
                    ]
                }
            ],
            "source": [
                "#Elimino la columna host_name: no sirve porque hay varias personas que tienen el mismo nombre, y lo importante es el host_ID \n",
                "\n",
                "# df.drop(['host_name'], axis=1, inplace=True) ---> me da error ahora pero porque ya se eliminó lo verificamos con :\n",
                "df.columns = df.columns.str.strip()\n",
                "print(df.columns)\n"
            ]
        },
        {
            "cell_type": "code",
            "execution_count": 155,
            "metadata": {},
            "outputs": [
                {
                    "data": {
                        "text/plain": [
                            "np.int64(0)"
                        ]
                    },
                    "execution_count": 155,
                    "metadata": {},
                    "output_type": "execute_result"
                }
            ],
            "source": [
                "# Revisamos que no hya fila duplicada:\n",
                "df.duplicated().sum()"
            ]
        },
        {
            "cell_type": "code",
            "execution_count": 156,
            "metadata": {},
            "outputs": [
                {
                    "data": {
                        "text/html": [
                            "<div>\n",
                            "<style scoped>\n",
                            "    .dataframe tbody tr th:only-of-type {\n",
                            "        vertical-align: middle;\n",
                            "    }\n",
                            "\n",
                            "    .dataframe tbody tr th {\n",
                            "        vertical-align: top;\n",
                            "    }\n",
                            "\n",
                            "    .dataframe thead th {\n",
                            "        text-align: right;\n",
                            "    }\n",
                            "</style>\n",
                            "<table border=\"1\" class=\"dataframe\">\n",
                            "  <thead>\n",
                            "    <tr style=\"text-align: right;\">\n",
                            "      <th></th>\n",
                            "      <th>count</th>\n",
                            "      <th>mean</th>\n",
                            "      <th>std</th>\n",
                            "      <th>min</th>\n",
                            "      <th>25%</th>\n",
                            "      <th>50%</th>\n",
                            "      <th>75%</th>\n",
                            "      <th>max</th>\n",
                            "    </tr>\n",
                            "  </thead>\n",
                            "  <tbody>\n",
                            "    <tr>\n",
                            "      <th>id</th>\n",
                            "      <td>48895.0</td>\n",
                            "      <td>19017143.2</td>\n",
                            "      <td>10983108.4</td>\n",
                            "      <td>2539.0</td>\n",
                            "      <td>9471945.0</td>\n",
                            "      <td>19677284.0</td>\n",
                            "      <td>29152178.5</td>\n",
                            "      <td>36487245.0</td>\n",
                            "    </tr>\n",
                            "    <tr>\n",
                            "      <th>host_id</th>\n",
                            "      <td>48895.0</td>\n",
                            "      <td>67620010.6</td>\n",
                            "      <td>78610967.0</td>\n",
                            "      <td>2438.0</td>\n",
                            "      <td>7822033.0</td>\n",
                            "      <td>30793816.0</td>\n",
                            "      <td>107434423.0</td>\n",
                            "      <td>274321313.0</td>\n",
                            "    </tr>\n",
                            "    <tr>\n",
                            "      <th>latitude</th>\n",
                            "      <td>48895.0</td>\n",
                            "      <td>40.7</td>\n",
                            "      <td>0.1</td>\n",
                            "      <td>40.5</td>\n",
                            "      <td>40.7</td>\n",
                            "      <td>40.7</td>\n",
                            "      <td>40.8</td>\n",
                            "      <td>40.9</td>\n",
                            "    </tr>\n",
                            "    <tr>\n",
                            "      <th>longitude</th>\n",
                            "      <td>48895.0</td>\n",
                            "      <td>-74.0</td>\n",
                            "      <td>0.0</td>\n",
                            "      <td>-74.2</td>\n",
                            "      <td>-74.0</td>\n",
                            "      <td>-74.0</td>\n",
                            "      <td>-73.9</td>\n",
                            "      <td>-73.7</td>\n",
                            "    </tr>\n",
                            "    <tr>\n",
                            "      <th>price</th>\n",
                            "      <td>48895.0</td>\n",
                            "      <td>152.7</td>\n",
                            "      <td>240.2</td>\n",
                            "      <td>0.0</td>\n",
                            "      <td>69.0</td>\n",
                            "      <td>106.0</td>\n",
                            "      <td>175.0</td>\n",
                            "      <td>10000.0</td>\n",
                            "    </tr>\n",
                            "    <tr>\n",
                            "      <th>minimum_nights</th>\n",
                            "      <td>48895.0</td>\n",
                            "      <td>7.0</td>\n",
                            "      <td>20.5</td>\n",
                            "      <td>1.0</td>\n",
                            "      <td>1.0</td>\n",
                            "      <td>3.0</td>\n",
                            "      <td>5.0</td>\n",
                            "      <td>1250.0</td>\n",
                            "    </tr>\n",
                            "    <tr>\n",
                            "      <th>number_of_reviews</th>\n",
                            "      <td>48895.0</td>\n",
                            "      <td>23.3</td>\n",
                            "      <td>44.6</td>\n",
                            "      <td>0.0</td>\n",
                            "      <td>1.0</td>\n",
                            "      <td>5.0</td>\n",
                            "      <td>24.0</td>\n",
                            "      <td>629.0</td>\n",
                            "    </tr>\n",
                            "    <tr>\n",
                            "      <th>reviews_per_month</th>\n",
                            "      <td>38843.0</td>\n",
                            "      <td>1.4</td>\n",
                            "      <td>1.7</td>\n",
                            "      <td>0.0</td>\n",
                            "      <td>0.2</td>\n",
                            "      <td>0.7</td>\n",
                            "      <td>2.0</td>\n",
                            "      <td>58.5</td>\n",
                            "    </tr>\n",
                            "    <tr>\n",
                            "      <th>calculated_host_listings_count</th>\n",
                            "      <td>48895.0</td>\n",
                            "      <td>7.1</td>\n",
                            "      <td>33.0</td>\n",
                            "      <td>1.0</td>\n",
                            "      <td>1.0</td>\n",
                            "      <td>1.0</td>\n",
                            "      <td>2.0</td>\n",
                            "      <td>327.0</td>\n",
                            "    </tr>\n",
                            "    <tr>\n",
                            "      <th>availability_365</th>\n",
                            "      <td>48895.0</td>\n",
                            "      <td>112.8</td>\n",
                            "      <td>131.6</td>\n",
                            "      <td>0.0</td>\n",
                            "      <td>0.0</td>\n",
                            "      <td>45.0</td>\n",
                            "      <td>227.0</td>\n",
                            "      <td>365.0</td>\n",
                            "    </tr>\n",
                            "  </tbody>\n",
                            "</table>\n",
                            "</div>"
                        ],
                        "text/plain": [
                            "                                  count        mean         std     min  \\\n",
                            "id                              48895.0  19017143.2  10983108.4  2539.0   \n",
                            "host_id                         48895.0  67620010.6  78610967.0  2438.0   \n",
                            "latitude                        48895.0        40.7         0.1    40.5   \n",
                            "longitude                       48895.0       -74.0         0.0   -74.2   \n",
                            "price                           48895.0       152.7       240.2     0.0   \n",
                            "minimum_nights                  48895.0         7.0        20.5     1.0   \n",
                            "number_of_reviews               48895.0        23.3        44.6     0.0   \n",
                            "reviews_per_month               38843.0         1.4         1.7     0.0   \n",
                            "calculated_host_listings_count  48895.0         7.1        33.0     1.0   \n",
                            "availability_365                48895.0       112.8       131.6     0.0   \n",
                            "\n",
                            "                                      25%         50%          75%  \\\n",
                            "id                              9471945.0  19677284.0   29152178.5   \n",
                            "host_id                         7822033.0  30793816.0  107434423.0   \n",
                            "latitude                             40.7        40.7         40.8   \n",
                            "longitude                           -74.0       -74.0        -73.9   \n",
                            "price                                69.0       106.0        175.0   \n",
                            "minimum_nights                        1.0         3.0          5.0   \n",
                            "number_of_reviews                     1.0         5.0         24.0   \n",
                            "reviews_per_month                     0.2         0.7          2.0   \n",
                            "calculated_host_listings_count        1.0         1.0          2.0   \n",
                            "availability_365                      0.0        45.0        227.0   \n",
                            "\n",
                            "                                        max  \n",
                            "id                               36487245.0  \n",
                            "host_id                         274321313.0  \n",
                            "latitude                               40.9  \n",
                            "longitude                             -73.7  \n",
                            "price                               10000.0  \n",
                            "minimum_nights                       1250.0  \n",
                            "number_of_reviews                     629.0  \n",
                            "reviews_per_month                      58.5  \n",
                            "calculated_host_listings_count        327.0  \n",
                            "availability_365                      365.0  "
                        ]
                    },
                    "execution_count": 156,
                    "metadata": {},
                    "output_type": "execute_result"
                }
            ],
            "source": [
                "#Descripción bsica :\n",
                "df.describe().T.round(1)\n"
            ]
        },
        {
            "cell_type": "code",
            "execution_count": 157,
            "metadata": {},
            "outputs": [
                {
                    "data": {
                        "image/png": "[encoded data removed]",
                        "text/plain": [
                            "<Figure size 1000x500 with 2 Axes>"
                        ]
                    },
                    "metadata": {},
                    "output_type": "display_data"
                }
            ],
            "source": [
                "# Estudiamos precios con histogramo y boxplot\n",
                "fig, ax = plt.subplots(1, 2, figsize=(10, 5))\n",
                "\n",
                "# Crear un histograma en el primer subplot\n",
                "ax[0].hist(df['price'], bins=20, color='skyblue', edgecolor='black')\n",
                "ax[0].set_title('Histograma de precios')\n",
                "ax[0].set_xlabel('Precio')\n",
                "ax[0].set_ylabel('Frecuencia')\n",
                "\n",
                "# Crear un boxplot en el segundo subplot\n",
                "ax[1].boxplot(df['price'], vert=False)\n",
                "ax[1].set_title('Boxplot de precios')\n",
                "ax[1].set_xlabel('Precio')\n",
                "\n",
                "# Mostrar la figura\n",
                "plt.tight_layout()\n",
                "plt.show()"
            ]
        },
        {
            "cell_type": "code",
            "execution_count": 164,
            "metadata": {},
            "outputs": [],
            "source": [
                "# Transformamos la variable respuesta/dependiente/y/target a escala logarítmica\n",
                "#Eliminamos negativos en columna price : \n",
                "\n",
                "df = df[df['price'] > 0]\n",
                "df['log_precios'] = np.log(df['price'])"
            ]
        },
        {
            "cell_type": "code",
            "execution_count": 163,
            "metadata": {},
            "outputs": [
                {
                    "data": {
                        "image/png": "[encoded data removed]",
                        "text/plain": [
                            "<Figure size 1000x500 with 2 Axes>"
                        ]
                    },
                    "metadata": {},
                    "output_type": "display_data"
                }
            ],
            "source": [
                "# Crear una figura con dos subplots (uno para el histograma y otro para el boxplot)\n",
                "fig, ax = plt.subplots(1, 2, figsize=(10, 5))\n",
                "\n",
                "# Crear un histograma en el primer subplot\n",
                "ax[0].hist(df['log_precios'], bins=20, color='skyblue', edgecolor='black')\n",
                "ax[0].set_title('Histograma de precios (log)')\n",
                "ax[0].set_xlabel('Log(Precio)')\n",
                "ax[0].set_ylabel('Frecuencia')\n",
                "\n",
                "# Crear un boxplot en el segundo subplot\n",
                "ax[1].boxplot(df['log_precios'], vert=False)\n",
                "ax[1].set_title('Boxplot de precios (log)')\n",
                "ax[1].set_xlabel('Log(Precio)')\n",
                "\n",
                "# Mostrar la figura\n",
                "plt.tight_layout()\n",
                "plt.show()"
            ]
        }
    ],
    "metadata": {
        "kernelspec": {
            "display_name": "Python 3",
            "language": "python",
            "name": "python3"
        },
        "language_info": {
            "codemirror_mode": {
                "name": "ipython",
                "version": 3
            },
            "file_extension": ".py",
            "mimetype": "text/x-python",
            "name": "python",
            "nbconvert_exporter": "python",
            "pygments_lexer": "ipython3",
            "version": "3.10.12"
        },
        "orig_nbformat": 4
    },
    "nbformat": 4,
    "nbformat_minor": 2
}
